{
  "nbformat": 4,
  "nbformat_minor": 0,
  "metadata": {
    "colab": {
      "name": "sprgame.ipynb",
      "provenance": [],
      "authorship_tag": "ABX9TyNAjn+JIw6uIE7WYywasN3s",
      "include_colab_link": true
    },
    "kernelspec": {
      "name": "python3",
      "display_name": "Python 3"
    }
  },
  "cells": [
    {
      "cell_type": "markdown",
      "metadata": {
        "id": "view-in-github",
        "colab_type": "text"
      },
      "source": [
        "<a href=\"https://colab.research.google.com/github/sonubariki00/rpsgame/blob/master/sprgame.ipynb\" target=\"_parent\"><img src=\"https://colab.research.google.com/assets/colab-badge.svg\" alt=\"Open In Colab\"/></a>"
      ]
    },
    {
      "cell_type": "code",
      "metadata": {
        "id": "Gk5tr1Zx7Qbn",
        "colab_type": "code",
        "colab": {
          "base_uri": "https://localhost:8080/",
          "height": 265
        },
        "outputId": "824f0153-2392-45cc-a325-2c48d1d4554f"
      },
      "source": [
        "import random\n",
        "import sys\n",
        "print(\"Rock,Paper,Scissors\")\n",
        "wins = 0\n",
        "losses = 0\n",
        "ties = 0\n",
        "\n",
        "while True :\n",
        "   print(\"WINS = \",wins,\"LOSSES =\",losses,\"TIES\",ties)\n",
        "    while True :\n",
        "        print(\" (r) for Rock \\n (p) for Paper \\n (s) for Scissor\\n (q) for quit\")\n",
        "        playerMove = input('enter your choice :')\n",
        "        if playerMove == 'q':\n",
        "            print(\"QUIT\")\n",
        "            sys.exit(0)  \n",
        "        elif playerMove == 'r' :\n",
        "            print('ROCK versus...')\n",
        "        elif playerMove == 'p':\n",
        "            print('PAPER versus...')\n",
        "        elif playerMove == 's':\n",
        "            print(\"SCISSORS versus...\")\n",
        "        else :\n",
        "            print(\"wrong choice\")     \n",
        "    \n",
        "        randomNumber = random.randint(1,3)\n",
        "        if randomNumber == 1:\n",
        "            computerMove = 'r'\n",
        "            print('ROCK')\n",
        "        elif randomNumber == 2:\n",
        "            computerMove = 'p'\n",
        "            print('PAPER')\n",
        "        elif randomNumber == 3:\n",
        "            computerMove = 's'\n",
        "            print('SCISSORS')\n",
        "\n",
        "\n",
        "        if playerMove == computerMove:\n",
        "            print(\"It's a tie!\")\n",
        "            ties = ties + 1\n",
        "        elif playerMove == 'r' and computerMove == 's':\n",
        "            print('You win!')\n",
        "            wins = wins + 1\n",
        "        elif playerMove == 'p' and computerMove == 'r':\n",
        "            print('You win!')\n",
        "            wins = wins + 1\n",
        "        elif playerMove == 's' and computerMove == 'p':\n",
        "            print('You win!')\n",
        "            wins =  wins + 1\n",
        "        elif playerMove == 'r' and computerMove == 'p':\n",
        "            print('You lose!')\n",
        "            losses = losses+1\n",
        "        elif playerMove == 'p' and computerMove == 's':\n",
        "            print('You lose!')\n",
        "            losses = losses + 1\n",
        "        elif playerMove == 's' and computerMove == 'r':\n",
        "            print('You lose!')\n",
        "            losses = losses + 1\n",
        "        break   \n",
        "        print(\"WINS = \",wins,\"LOSSES =\",losses,\"TIES\",ties) \n",
        "    \n"
      ],
      "execution_count": 26,
      "outputs": [
        {
          "output_type": "stream",
          "text": [
            "Rock,Paper,Scissors\n",
            " (r) for Rock \n",
            " (p) for Paper \n",
            " (s) for Scissor\n",
            " (q) for quit\n",
            "enter your choice :q\n",
            "QUIT\n"
          ],
          "name": "stdout"
        },
        {
          "output_type": "error",
          "ename": "SystemExit",
          "evalue": "ignored",
          "traceback": [
            "An exception has occurred, use %tb to see the full traceback.\n",
            "\u001b[0;31mSystemExit\u001b[0m\u001b[0;31m:\u001b[0m 0\n"
          ]
        },
        {
          "output_type": "stream",
          "text": [
            "/usr/local/lib/python3.6/dist-packages/IPython/core/interactiveshell.py:2890: UserWarning: To exit: use 'exit', 'quit', or Ctrl-D.\n",
            "  warn(\"To exit: use 'exit', 'quit', or Ctrl-D.\", stacklevel=1)\n"
          ],
          "name": "stderr"
        }
      ]
    },
    {
      "cell_type": "code",
      "metadata": {
        "id": "epKnSSD3B4TS",
        "colab_type": "code",
        "colab": {}
      },
      "source": [
        ""
      ],
      "execution_count": null,
      "outputs": []
    }
  ]
}